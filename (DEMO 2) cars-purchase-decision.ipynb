{
 "cells": [
  {
   "cell_type": "markdown",
   "id": "6e00f926",
   "metadata": {
    "papermill": {
     "duration": 0.00697,
     "end_time": "2022-08-24T16:03:54.928637",
     "exception": false,
     "start_time": "2022-08-24T16:03:54.921667",
     "status": "completed"
    },
    "tags": []
   },
   "source": [
    "<div style=\"color:#62caf0;\">\n",
    "<h2 style=\"font-weight:700\">CS 4103 - Intelligent Systems</h2>\n",
    "<h3>Hands-on Example 2 - Normalization and Standardization</h3>\n",
    "<h4>September 6, 2023</h4>\n",
    "</div>"
   ]
  },
  {
   "cell_type": "code",
   "execution_count": 2,
   "id": "7c389ae0",
   "metadata": {
    "execution": {
     "iopub.execute_input": "2022-08-24T16:03:54.944709Z",
     "iopub.status.busy": "2022-08-24T16:03:54.943987Z",
     "iopub.status.idle": "2022-08-24T16:03:56.634024Z",
     "shell.execute_reply": "2022-08-24T16:03:56.632536Z"
    },
    "papermill": {
     "duration": 1.701456,
     "end_time": "2022-08-24T16:03:56.637035",
     "exception": false,
     "start_time": "2022-08-24T16:03:54.935579",
     "status": "completed"
    },
    "tags": []
   },
   "outputs": [],
   "source": [
    "import warnings\n",
    "warnings.filterwarnings('ignore')\n",
    "\n",
    "import pandas as pd\n",
    "import numpy as np\n",
    "import matplotlib.pyplot as plt\n",
    "import seaborn as sns\n",
    "import tensorflow as tf\n",
    "\n",
    "from sklearn.preprocessing import OneHotEncoder, StandardScaler, LabelEncoder\n",
    "from sklearn.model_selection import train_test_split\n",
    "from sklearn.impute import SimpleImputer\n",
    "from sklearn.compose import ColumnTransformer\n",
    "from sklearn.decomposition import TruncatedSVD\n",
    "from sklearn.pipeline import Pipeline\n",
    "\n",
    "from sklearn.metrics import RocCurveDisplay, roc_curve, auc, classification_report, confusion_matrix"
   ]
  },
  {
   "cell_type": "markdown",
   "id": "bfb6978a",
   "metadata": {},
   "source": [
    "### Cars - Purchase Decision Dataset\n",
    "---\n",
    "A purchase decision data set, indicating whether or not a client bought a car"
   ]
  },
  {
   "cell_type": "code",
   "execution_count": 3,
   "id": "b3916270",
   "metadata": {
    "execution": {
     "iopub.execute_input": "2022-08-24T16:03:56.668354Z",
     "iopub.status.busy": "2022-08-24T16:03:56.667387Z",
     "iopub.status.idle": "2022-08-24T16:03:56.688681Z",
     "shell.execute_reply": "2022-08-24T16:03:56.687731Z"
    },
    "papermill": {
     "duration": 0.032388,
     "end_time": "2022-08-24T16:03:56.691293",
     "exception": false,
     "start_time": "2022-08-24T16:03:56.658905",
     "status": "completed"
    },
    "tags": []
   },
   "outputs": [],
   "source": [
    "project_data = pd.read_csv(\"car_data.csv\")"
   ]
  },
  {
   "cell_type": "code",
   "execution_count": 4,
   "id": "f9544388",
   "metadata": {
    "execution": {
     "iopub.execute_input": "2022-08-24T16:03:56.707575Z",
     "iopub.status.busy": "2022-08-24T16:03:56.706750Z",
     "iopub.status.idle": "2022-08-24T16:03:56.730411Z",
     "shell.execute_reply": "2022-08-24T16:03:56.728794Z"
    },
    "papermill": {
     "duration": 0.035053,
     "end_time": "2022-08-24T16:03:56.733310",
     "exception": false,
     "start_time": "2022-08-24T16:03:56.698257",
     "status": "completed"
    },
    "tags": []
   },
   "outputs": [
    {
     "data": {
      "text/html": [
       "<div>\n",
       "<style scoped>\n",
       "    .dataframe tbody tr th:only-of-type {\n",
       "        vertical-align: middle;\n",
       "    }\n",
       "\n",
       "    .dataframe tbody tr th {\n",
       "        vertical-align: top;\n",
       "    }\n",
       "\n",
       "    .dataframe thead th {\n",
       "        text-align: right;\n",
       "    }\n",
       "</style>\n",
       "<table border=\"1\" class=\"dataframe\">\n",
       "  <thead>\n",
       "    <tr style=\"text-align: right;\">\n",
       "      <th></th>\n",
       "      <th>User ID</th>\n",
       "      <th>Gender</th>\n",
       "      <th>Age</th>\n",
       "      <th>AnnualSalary</th>\n",
       "      <th>Purchased</th>\n",
       "    </tr>\n",
       "  </thead>\n",
       "  <tbody>\n",
       "    <tr>\n",
       "      <th>0</th>\n",
       "      <td>385</td>\n",
       "      <td>Male</td>\n",
       "      <td>35</td>\n",
       "      <td>20000</td>\n",
       "      <td>0</td>\n",
       "    </tr>\n",
       "    <tr>\n",
       "      <th>1</th>\n",
       "      <td>681</td>\n",
       "      <td>Male</td>\n",
       "      <td>40</td>\n",
       "      <td>43500</td>\n",
       "      <td>0</td>\n",
       "    </tr>\n",
       "    <tr>\n",
       "      <th>2</th>\n",
       "      <td>353</td>\n",
       "      <td>Male</td>\n",
       "      <td>49</td>\n",
       "      <td>74000</td>\n",
       "      <td>0</td>\n",
       "    </tr>\n",
       "    <tr>\n",
       "      <th>3</th>\n",
       "      <td>895</td>\n",
       "      <td>Male</td>\n",
       "      <td>40</td>\n",
       "      <td>107500</td>\n",
       "      <td>1</td>\n",
       "    </tr>\n",
       "    <tr>\n",
       "      <th>4</th>\n",
       "      <td>661</td>\n",
       "      <td>Male</td>\n",
       "      <td>25</td>\n",
       "      <td>79000</td>\n",
       "      <td>0</td>\n",
       "    </tr>\n",
       "  </tbody>\n",
       "</table>\n",
       "</div>"
      ],
      "text/plain": [
       "   User ID Gender  Age  AnnualSalary  Purchased\n",
       "0      385   Male   35         20000          0\n",
       "1      681   Male   40         43500          0\n",
       "2      353   Male   49         74000          0\n",
       "3      895   Male   40        107500          1\n",
       "4      661   Male   25         79000          0"
      ]
     },
     "execution_count": 4,
     "metadata": {},
     "output_type": "execute_result"
    }
   ],
   "source": [
    "project_data.head()"
   ]
  },
  {
   "cell_type": "code",
   "execution_count": 5,
   "id": "9f6dadaa",
   "metadata": {
    "execution": {
     "iopub.execute_input": "2022-08-24T16:03:56.749966Z",
     "iopub.status.busy": "2022-08-24T16:03:56.749546Z",
     "iopub.status.idle": "2022-08-24T16:03:56.761614Z",
     "shell.execute_reply": "2022-08-24T16:03:56.760237Z"
    },
    "papermill": {
     "duration": 0.023366,
     "end_time": "2022-08-24T16:03:56.764205",
     "exception": false,
     "start_time": "2022-08-24T16:03:56.740839",
     "status": "completed"
    },
    "tags": []
   },
   "outputs": [
    {
     "data": {
      "text/html": [
       "<div>\n",
       "<style scoped>\n",
       "    .dataframe tbody tr th:only-of-type {\n",
       "        vertical-align: middle;\n",
       "    }\n",
       "\n",
       "    .dataframe tbody tr th {\n",
       "        vertical-align: top;\n",
       "    }\n",
       "\n",
       "    .dataframe thead th {\n",
       "        text-align: right;\n",
       "    }\n",
       "</style>\n",
       "<table border=\"1\" class=\"dataframe\">\n",
       "  <thead>\n",
       "    <tr style=\"text-align: right;\">\n",
       "      <th></th>\n",
       "      <th>User ID</th>\n",
       "      <th>Gender</th>\n",
       "      <th>Age</th>\n",
       "      <th>AnnualSalary</th>\n",
       "      <th>Purchased</th>\n",
       "    </tr>\n",
       "  </thead>\n",
       "  <tbody>\n",
       "    <tr>\n",
       "      <th>995</th>\n",
       "      <td>863</td>\n",
       "      <td>Male</td>\n",
       "      <td>38</td>\n",
       "      <td>59000</td>\n",
       "      <td>0</td>\n",
       "    </tr>\n",
       "    <tr>\n",
       "      <th>996</th>\n",
       "      <td>800</td>\n",
       "      <td>Female</td>\n",
       "      <td>47</td>\n",
       "      <td>23500</td>\n",
       "      <td>0</td>\n",
       "    </tr>\n",
       "    <tr>\n",
       "      <th>997</th>\n",
       "      <td>407</td>\n",
       "      <td>Female</td>\n",
       "      <td>28</td>\n",
       "      <td>138500</td>\n",
       "      <td>1</td>\n",
       "    </tr>\n",
       "    <tr>\n",
       "      <th>998</th>\n",
       "      <td>299</td>\n",
       "      <td>Female</td>\n",
       "      <td>48</td>\n",
       "      <td>134000</td>\n",
       "      <td>1</td>\n",
       "    </tr>\n",
       "    <tr>\n",
       "      <th>999</th>\n",
       "      <td>687</td>\n",
       "      <td>Female</td>\n",
       "      <td>44</td>\n",
       "      <td>73500</td>\n",
       "      <td>0</td>\n",
       "    </tr>\n",
       "  </tbody>\n",
       "</table>\n",
       "</div>"
      ],
      "text/plain": [
       "     User ID  Gender  Age  AnnualSalary  Purchased\n",
       "995      863    Male   38         59000          0\n",
       "996      800  Female   47         23500          0\n",
       "997      407  Female   28        138500          1\n",
       "998      299  Female   48        134000          1\n",
       "999      687  Female   44         73500          0"
      ]
     },
     "execution_count": 5,
     "metadata": {},
     "output_type": "execute_result"
    }
   ],
   "source": [
    "project_data.tail()"
   ]
  },
  {
   "cell_type": "code",
   "execution_count": 6,
   "id": "39e6069f",
   "metadata": {
    "execution": {
     "iopub.execute_input": "2022-08-24T16:03:56.781780Z",
     "iopub.status.busy": "2022-08-24T16:03:56.781385Z",
     "iopub.status.idle": "2022-08-24T16:03:56.808507Z",
     "shell.execute_reply": "2022-08-24T16:03:56.806775Z"
    },
    "papermill": {
     "duration": 0.039754,
     "end_time": "2022-08-24T16:03:56.811670",
     "exception": false,
     "start_time": "2022-08-24T16:03:56.771916",
     "status": "completed"
    },
    "tags": []
   },
   "outputs": [
    {
     "name": "stdout",
     "output_type": "stream",
     "text": [
      "<class 'pandas.core.frame.DataFrame'>\n",
      "RangeIndex: 1000 entries, 0 to 999\n",
      "Data columns (total 5 columns):\n",
      " #   Column        Non-Null Count  Dtype \n",
      "---  ------        --------------  ----- \n",
      " 0   User ID       1000 non-null   int64 \n",
      " 1   Gender        1000 non-null   object\n",
      " 2   Age           1000 non-null   int64 \n",
      " 3   AnnualSalary  1000 non-null   int64 \n",
      " 4   Purchased     1000 non-null   int64 \n",
      "dtypes: int64(4), object(1)\n",
      "memory usage: 39.2+ KB\n"
     ]
    }
   ],
   "source": [
    "project_data.info()"
   ]
  },
  {
   "cell_type": "code",
   "execution_count": 7,
   "id": "9ebad0cd",
   "metadata": {
    "execution": {
     "iopub.execute_input": "2022-08-24T16:03:56.828911Z",
     "iopub.status.busy": "2022-08-24T16:03:56.828488Z",
     "iopub.status.idle": "2022-08-24T16:03:56.855893Z",
     "shell.execute_reply": "2022-08-24T16:03:56.854958Z"
    },
    "papermill": {
     "duration": 0.038391,
     "end_time": "2022-08-24T16:03:56.858183",
     "exception": false,
     "start_time": "2022-08-24T16:03:56.819792",
     "status": "completed"
    },
    "tags": []
   },
   "outputs": [
    {
     "data": {
      "text/html": [
       "<div>\n",
       "<style scoped>\n",
       "    .dataframe tbody tr th:only-of-type {\n",
       "        vertical-align: middle;\n",
       "    }\n",
       "\n",
       "    .dataframe tbody tr th {\n",
       "        vertical-align: top;\n",
       "    }\n",
       "\n",
       "    .dataframe thead th {\n",
       "        text-align: right;\n",
       "    }\n",
       "</style>\n",
       "<table border=\"1\" class=\"dataframe\">\n",
       "  <thead>\n",
       "    <tr style=\"text-align: right;\">\n",
       "      <th></th>\n",
       "      <th>User ID</th>\n",
       "      <th>Age</th>\n",
       "      <th>AnnualSalary</th>\n",
       "      <th>Purchased</th>\n",
       "    </tr>\n",
       "  </thead>\n",
       "  <tbody>\n",
       "    <tr>\n",
       "      <th>count</th>\n",
       "      <td>1000.000000</td>\n",
       "      <td>1000.000000</td>\n",
       "      <td>1000.000000</td>\n",
       "      <td>1000.000000</td>\n",
       "    </tr>\n",
       "    <tr>\n",
       "      <th>mean</th>\n",
       "      <td>500.500000</td>\n",
       "      <td>40.106000</td>\n",
       "      <td>72689.000000</td>\n",
       "      <td>0.402000</td>\n",
       "    </tr>\n",
       "    <tr>\n",
       "      <th>std</th>\n",
       "      <td>288.819436</td>\n",
       "      <td>10.707073</td>\n",
       "      <td>34488.341867</td>\n",
       "      <td>0.490547</td>\n",
       "    </tr>\n",
       "    <tr>\n",
       "      <th>min</th>\n",
       "      <td>1.000000</td>\n",
       "      <td>18.000000</td>\n",
       "      <td>15000.000000</td>\n",
       "      <td>0.000000</td>\n",
       "    </tr>\n",
       "    <tr>\n",
       "      <th>25%</th>\n",
       "      <td>250.750000</td>\n",
       "      <td>32.000000</td>\n",
       "      <td>46375.000000</td>\n",
       "      <td>0.000000</td>\n",
       "    </tr>\n",
       "    <tr>\n",
       "      <th>50%</th>\n",
       "      <td>500.500000</td>\n",
       "      <td>40.000000</td>\n",
       "      <td>72000.000000</td>\n",
       "      <td>0.000000</td>\n",
       "    </tr>\n",
       "    <tr>\n",
       "      <th>75%</th>\n",
       "      <td>750.250000</td>\n",
       "      <td>48.000000</td>\n",
       "      <td>90000.000000</td>\n",
       "      <td>1.000000</td>\n",
       "    </tr>\n",
       "    <tr>\n",
       "      <th>max</th>\n",
       "      <td>1000.000000</td>\n",
       "      <td>63.000000</td>\n",
       "      <td>152500.000000</td>\n",
       "      <td>1.000000</td>\n",
       "    </tr>\n",
       "  </tbody>\n",
       "</table>\n",
       "</div>"
      ],
      "text/plain": [
       "           User ID          Age   AnnualSalary    Purchased\n",
       "count  1000.000000  1000.000000    1000.000000  1000.000000\n",
       "mean    500.500000    40.106000   72689.000000     0.402000\n",
       "std     288.819436    10.707073   34488.341867     0.490547\n",
       "min       1.000000    18.000000   15000.000000     0.000000\n",
       "25%     250.750000    32.000000   46375.000000     0.000000\n",
       "50%     500.500000    40.000000   72000.000000     0.000000\n",
       "75%     750.250000    48.000000   90000.000000     1.000000\n",
       "max    1000.000000    63.000000  152500.000000     1.000000"
      ]
     },
     "execution_count": 7,
     "metadata": {},
     "output_type": "execute_result"
    }
   ],
   "source": [
    "project_data.describe()"
   ]
  },
  {
   "cell_type": "code",
   "execution_count": 8,
   "id": "91ac3dad",
   "metadata": {
    "execution": {
     "iopub.execute_input": "2022-08-24T16:03:56.875830Z",
     "iopub.status.busy": "2022-08-24T16:03:56.875438Z",
     "iopub.status.idle": "2022-08-24T16:03:56.882218Z",
     "shell.execute_reply": "2022-08-24T16:03:56.881291Z"
    },
    "papermill": {
     "duration": 0.018458,
     "end_time": "2022-08-24T16:03:56.884429",
     "exception": false,
     "start_time": "2022-08-24T16:03:56.865971",
     "status": "completed"
    },
    "tags": []
   },
   "outputs": [
    {
     "data": {
      "text/plain": [
       "Index(['User ID', 'Gender', 'Age', 'AnnualSalary', 'Purchased'], dtype='object')"
      ]
     },
     "execution_count": 8,
     "metadata": {},
     "output_type": "execute_result"
    }
   ],
   "source": [
    "project_data.columns"
   ]
  },
  {
   "cell_type": "code",
   "execution_count": 9,
   "id": "f73c9d97",
   "metadata": {
    "execution": {
     "iopub.execute_input": "2022-08-24T16:03:56.902356Z",
     "iopub.status.busy": "2022-08-24T16:03:56.901973Z",
     "iopub.status.idle": "2022-08-24T16:03:56.911869Z",
     "shell.execute_reply": "2022-08-24T16:03:56.910572Z"
    },
    "papermill": {
     "duration": 0.021888,
     "end_time": "2022-08-24T16:03:56.914426",
     "exception": false,
     "start_time": "2022-08-24T16:03:56.892538",
     "status": "completed"
    },
    "tags": []
   },
   "outputs": [
    {
     "data": {
      "text/plain": [
       "User ID         0\n",
       "Gender          0\n",
       "Age             0\n",
       "AnnualSalary    0\n",
       "Purchased       0\n",
       "dtype: int64"
      ]
     },
     "execution_count": 9,
     "metadata": {},
     "output_type": "execute_result"
    }
   ],
   "source": [
    "project_data.isna().sum()"
   ]
  },
  {
   "cell_type": "markdown",
   "id": "abb96e3a",
   "metadata": {
    "papermill": {
     "duration": 0.007561,
     "end_time": "2022-08-24T16:03:56.930299",
     "exception": false,
     "start_time": "2022-08-24T16:03:56.922738",
     "status": "completed"
    },
    "tags": []
   },
   "source": [
    "## Bivariate EDA"
   ]
  },
  {
   "cell_type": "code",
   "execution_count": 10,
   "id": "499fd6b9",
   "metadata": {
    "execution": {
     "iopub.execute_input": "2022-08-24T16:03:56.948714Z",
     "iopub.status.busy": "2022-08-24T16:03:56.948298Z",
     "iopub.status.idle": "2022-08-24T16:03:57.211169Z",
     "shell.execute_reply": "2022-08-24T16:03:57.209922Z"
    },
    "papermill": {
     "duration": 0.27467,
     "end_time": "2022-08-24T16:03:57.213821",
     "exception": false,
     "start_time": "2022-08-24T16:03:56.939151",
     "status": "completed"
    },
    "tags": []
   },
   "outputs": [
    {
     "data": {
      "image/png": "[encoded data removed]",
      "text/plain": [
       "<Figure size 640x480 with 1 Axes>"
      ]
     },
     "metadata": {},
     "output_type": "display_data"
    }
   ],
   "source": [
    "ax = sns.violinplot(x=\"Gender\", y=\"Age\", data=project_data)"
   ]
  },
  {
   "cell_type": "markdown",
   "id": "8b1bed81",
   "metadata": {
    "papermill": {
     "duration": 0.007909,
     "end_time": "2022-08-24T16:03:57.230165",
     "exception": false,
     "start_time": "2022-08-24T16:03:57.222256",
     "status": "completed"
    },
    "tags": []
   },
   "source": [
    "## Univariate EDA"
   ]
  },
  {
   "cell_type": "code",
   "execution_count": 11,
   "id": "2545b734",
   "metadata": {
    "execution": {
     "iopub.execute_input": "2022-08-24T16:03:57.248673Z",
     "iopub.status.busy": "2022-08-24T16:03:57.248016Z",
     "iopub.status.idle": "2022-08-24T16:03:57.494149Z",
     "shell.execute_reply": "2022-08-24T16:03:57.492806Z"
    },
    "papermill": {
     "duration": 0.258297,
     "end_time": "2022-08-24T16:03:57.496710",
     "exception": false,
     "start_time": "2022-08-24T16:03:57.238413",
     "status": "completed"
    },
    "tags": []
   },
   "outputs": [
    {
     "data": {
      "text/plain": [
       "<seaborn.axisgrid.FacetGrid at 0x13e08ba4160>"
      ]
     },
     "execution_count": 11,
     "metadata": {},
     "output_type": "execute_result"
    },
    {
     "data": {
      "image/png": "[encoded data removed]",
      "text/plain": [
       "<Figure size 500x500 with 1 Axes>"
      ]
     },
     "metadata": {},
     "output_type": "display_data"
    }
   ],
   "source": [
    "sns.displot(project_data, x=\"Age\", kind=\"kde\")"
   ]
  },
  {
   "cell_type": "code",
   "execution_count": 12,
   "id": "caa5c6e8",
   "metadata": {
    "execution": {
     "iopub.execute_input": "2022-08-24T16:03:57.516881Z",
     "iopub.status.busy": "2022-08-24T16:03:57.516465Z",
     "iopub.status.idle": "2022-08-24T16:03:57.828591Z",
     "shell.execute_reply": "2022-08-24T16:03:57.827323Z"
    },
    "papermill": {
     "duration": 0.325278,
     "end_time": "2022-08-24T16:03:57.831163",
     "exception": false,
     "start_time": "2022-08-24T16:03:57.505885",
     "status": "completed"
    },
    "tags": []
   },
   "outputs": [
    {
     "data": {
      "text/plain": [
       "<seaborn.axisgrid.FacetGrid at 0x13e08ba5ae0>"
      ]
     },
     "execution_count": 12,
     "metadata": {},
     "output_type": "execute_result"
    },
    {
     "data": {
      "image/png": "[encoded data removed]",
      "text/plain": [
       "<Figure size 500x500 with 1 Axes>"
      ]
     },
     "metadata": {},
     "output_type": "display_data"
    }
   ],
   "source": [
    "sns.displot(project_data, x=\"AnnualSalary\", kind=\"kde\")"
   ]
  },
  {
   "cell_type": "code",
   "execution_count": 13,
   "id": "edae5957",
   "metadata": {
    "execution": {
     "iopub.execute_input": "2022-08-24T16:03:57.851654Z",
     "iopub.status.busy": "2022-08-24T16:03:57.851128Z",
     "iopub.status.idle": "2022-08-24T16:03:58.119507Z",
     "shell.execute_reply": "2022-08-24T16:03:58.118351Z"
    },
    "papermill": {
     "duration": 0.28132,
     "end_time": "2022-08-24T16:03:58.121959",
     "exception": false,
     "start_time": "2022-08-24T16:03:57.840639",
     "status": "completed"
    },
    "tags": []
   },
   "outputs": [
    {
     "data": {
      "text/plain": [
       "<Axes: >"
      ]
     },
     "execution_count": 13,
     "metadata": {},
     "output_type": "execute_result"
    },
    {
     "data": {
      "image/png": "[encoded data removed]",
      "text/plain": [
       "<Figure size 640x480 with 2 Axes>"
      ]
     },
     "metadata": {},
     "output_type": "display_data"
    }
   ],
   "source": [
    "project_data = project_data.drop(columns='User ID')\n",
    "corr_data = project_data.drop(columns='Gender')\n",
    "corr = corr_data.corr()\n",
    "sns.heatmap(corr, annot=True)"
   ]
  },
  {
   "cell_type": "markdown",
   "id": "c3f9247f",
   "metadata": {},
   "source": [
    "### Data Preprocessing"
   ]
  },
  {
   "cell_type": "code",
   "execution_count": 14,
   "id": "0a0ae396",
   "metadata": {
    "execution": {
     "iopub.execute_input": "2022-08-24T16:03:58.144013Z",
     "iopub.status.busy": "2022-08-24T16:03:58.142821Z",
     "iopub.status.idle": "2022-08-24T16:03:58.151374Z",
     "shell.execute_reply": "2022-08-24T16:03:58.150250Z"
    },
    "papermill": {
     "duration": 0.022295,
     "end_time": "2022-08-24T16:03:58.154008",
     "exception": false,
     "start_time": "2022-08-24T16:03:58.131713",
     "status": "completed"
    },
    "tags": []
   },
   "outputs": [],
   "source": [
    "X = project_data.iloc[:, 0:-1].values\n",
    "y = project_data.iloc[:, -1].values\n"
   ]
  },
  {
   "cell_type": "code",
   "execution_count": 15,
   "id": "83e6afc5",
   "metadata": {},
   "outputs": [
    {
     "data": {
      "text/plain": [
       "array([['Male', 35, 20000],\n",
       "       ['Male', 40, 43500],\n",
       "       ['Male', 49, 74000],\n",
       "       ...,\n",
       "       ['Female', 28, 138500],\n",
       "       ['Female', 48, 134000],\n",
       "       ['Female', 44, 73500]], dtype=object)"
      ]
     },
     "execution_count": 15,
     "metadata": {},
     "output_type": "execute_result"
    }
   ],
   "source": [
    "X"
   ]
  },
  {
   "cell_type": "code",
   "execution_count": 16,
   "id": "bb96bae6",
   "metadata": {},
   "outputs": [],
   "source": [
    "# Label encoding of Gender\n",
    "le = LabelEncoder()\n",
    "X[:, 0] = le.fit_transform(X[:, 0])"
   ]
  },
  {
   "cell_type": "code",
   "execution_count": 17,
   "id": "56cbc548",
   "metadata": {},
   "outputs": [],
   "source": [
    "# Train Test Split\n",
    "X_train, X_test, y_train, y_test = train_test_split(X, y, test_size=0.3, random_state=0)"
   ]
  },
  {
   "cell_type": "markdown",
   "id": "b8a4fcb6",
   "metadata": {},
   "source": [
    "<h3>Feature scaling</h3>\n",
    "<h5 style=\"color:yellow;\">You can try various scaling methods here.</h5>"
   ]
  },
  {
   "cell_type": "code",
   "execution_count": 18,
   "id": "e48e73bb",
   "metadata": {},
   "outputs": [],
   "source": [
    "# Standardization (Why?)\n",
    "sc = StandardScaler()\n",
    "X_train = sc.fit_transform(X_train)\n",
    "X_test = sc.transform(X_test)"
   ]
  },
  {
   "cell_type": "code",
   "execution_count": 19,
   "id": "09060e4a",
   "metadata": {},
   "outputs": [
    {
     "name": "stdout",
     "output_type": "stream",
     "text": [
      "Train dataset shape: (700, 3)\n",
      "Test dataset shape (300, 3)\n"
     ]
    }
   ],
   "source": [
    "print('Train dataset shape:',X_train.shape)\n",
    "print('Test dataset shape', X_test.shape)"
   ]
  },
  {
   "cell_type": "code",
   "execution_count": 32,
   "id": "8890ff30",
   "metadata": {},
   "outputs": [
    {
     "data": {
      "text/plain": [
       "array([[-0.98019606,  0.99142304, -1.47432242],\n",
       "       [ 1.02020406,  0.05015608, -0.7980183 ],\n",
       "       [-0.98019606, -0.60873079,  1.20211515],\n",
       "       ...,\n",
       "       [ 1.02020406,  1.93269   ,  0.33874819],\n",
       "       [-0.98019606, -0.98523757, -0.30877703],\n",
       "       [-0.98019606, -2.02063123, -0.78362885]])"
      ]
     },
     "execution_count": 32,
     "metadata": {},
     "output_type": "execute_result"
    }
   ],
   "source": [
    "X_train"
   ]
  },
  {
   "cell_type": "markdown",
   "id": "52d6aa80",
   "metadata": {},
   "source": [
    "### Setting up the ANN model"
   ]
  },
  {
   "cell_type": "code",
   "execution_count": 21,
   "id": "6fd1fb0f",
   "metadata": {},
   "outputs": [
    {
     "name": "stdout",
     "output_type": "stream",
     "text": [
      "Model compiled!\n"
     ]
    }
   ],
   "source": [
    "ann = tf.keras.models.Sequential([\n",
    "    tf.keras.layers.Dense(units=3, activation='relu'),   # Input layer\n",
    "    tf.keras.layers.Dense(units=6, activation='tanh'),   # Hidden layer\n",
    "    tf.keras.layers.Dense(units=3, activation='tanh'),   # Input layer\n",
    "    tf.keras.layers.Dense(units=1, activation='sigmoid') # Output layer\n",
    "])\n",
    "ann.compile(optimizer = 'adam', loss = 'binary_crossentropy', metrics = ['accuracy'])\n",
    "print('Model compiled!')"
   ]
  },
  {
   "cell_type": "markdown",
   "id": "9ea6dcbf",
   "metadata": {},
   "source": [
    "#### Training the model"
   ]
  },
  {
   "cell_type": "code",
   "execution_count": 22,
   "id": "a2194f52",
   "metadata": {},
   "outputs": [
    {
     "name": "stdout",
     "output_type": "stream",
     "text": [
      "Epoch 1/50\n",
      "700/700 [==============================] - 2s 2ms/step - loss: 0.6542 - accuracy: 0.6486\n",
      "Epoch 2/50\n",
      "700/700 [==============================] - 1s 2ms/step - loss: 0.4953 - accuracy: 0.8286\n",
      "Epoch 3/50\n",
      "700/700 [==============================] - 1s 1ms/step - loss: 0.3782 - accuracy: 0.8686\n",
      "Epoch 4/50\n",
      "700/700 [==============================] - 1s 2ms/step - loss: 0.3223 - accuracy: 0.8857\n",
      "Epoch 5/50\n",
      "700/700 [==============================] - 1s 2ms/step - loss: 0.2907 - accuracy: 0.8943\n",
      "Epoch 6/50\n",
      "700/700 [==============================] - 1s 1ms/step - loss: 0.2735 - accuracy: 0.9014\n",
      "Epoch 7/50\n",
      "700/700 [==============================] - 1s 1ms/step - loss: 0.2652 - accuracy: 0.9000\n",
      "Epoch 8/50\n",
      "700/700 [==============================] - 1s 1ms/step - loss: 0.2589 - accuracy: 0.9057\n",
      "Epoch 9/50\n",
      "700/700 [==============================] - 1s 1ms/step - loss: 0.2554 - accuracy: 0.9071\n",
      "Epoch 10/50\n",
      "700/700 [==============================] - 1s 1ms/step - loss: 0.2524 - accuracy: 0.9071\n",
      "Epoch 11/50\n",
      "700/700 [==============================] - 1s 1ms/step - loss: 0.2516 - accuracy: 0.9086\n",
      "Epoch 12/50\n",
      "700/700 [==============================] - 1s 2ms/step - loss: 0.2473 - accuracy: 0.9086\n",
      "Epoch 13/50\n",
      "700/700 [==============================] - 1s 2ms/step - loss: 0.2463 - accuracy: 0.9100\n",
      "Epoch 14/50\n",
      "700/700 [==============================] - 1s 2ms/step - loss: 0.2460 - accuracy: 0.9029\n",
      "Epoch 15/50\n",
      "700/700 [==============================] - 1s 2ms/step - loss: 0.2446 - accuracy: 0.9071\n",
      "Epoch 16/50\n",
      "700/700 [==============================] - 1s 2ms/step - loss: 0.2429 - accuracy: 0.9100\n",
      "Epoch 17/50\n",
      "700/700 [==============================] - 1s 2ms/step - loss: 0.2428 - accuracy: 0.9086\n",
      "Epoch 18/50\n",
      "700/700 [==============================] - 1s 2ms/step - loss: 0.2425 - accuracy: 0.9071\n",
      "Epoch 19/50\n",
      "700/700 [==============================] - 1s 2ms/step - loss: 0.2426 - accuracy: 0.9129\n",
      "Epoch 20/50\n",
      "700/700 [==============================] - 1s 1ms/step - loss: 0.2415 - accuracy: 0.9086\n",
      "Epoch 21/50\n",
      "700/700 [==============================] - 1s 2ms/step - loss: 0.2389 - accuracy: 0.9100\n",
      "Epoch 22/50\n",
      "700/700 [==============================] - 1s 2ms/step - loss: 0.2403 - accuracy: 0.9086\n",
      "Epoch 23/50\n",
      "700/700 [==============================] - 1s 1ms/step - loss: 0.2405 - accuracy: 0.9057\n",
      "Epoch 24/50\n",
      "700/700 [==============================] - 1s 2ms/step - loss: 0.2405 - accuracy: 0.9114\n",
      "Epoch 25/50\n",
      "700/700 [==============================] - 1s 2ms/step - loss: 0.2390 - accuracy: 0.9100\n",
      "Epoch 26/50\n",
      "700/700 [==============================] - 1s 1ms/step - loss: 0.2393 - accuracy: 0.9100\n",
      "Epoch 27/50\n",
      "700/700 [==============================] - 1s 2ms/step - loss: 0.2389 - accuracy: 0.9129\n",
      "Epoch 28/50\n",
      "700/700 [==============================] - 1s 2ms/step - loss: 0.2362 - accuracy: 0.9086\n",
      "Epoch 29/50\n",
      "700/700 [==============================] - 1s 2ms/step - loss: 0.2388 - accuracy: 0.9086\n",
      "Epoch 30/50\n",
      "700/700 [==============================] - 2s 2ms/step - loss: 0.2371 - accuracy: 0.9100\n",
      "Epoch 31/50\n",
      "700/700 [==============================] - 1s 1ms/step - loss: 0.2361 - accuracy: 0.9057\n",
      "Epoch 32/50\n",
      "700/700 [==============================] - 1s 2ms/step - loss: 0.2376 - accuracy: 0.9143\n",
      "Epoch 33/50\n",
      "700/700 [==============================] - 1s 2ms/step - loss: 0.2351 - accuracy: 0.9071\n",
      "Epoch 34/50\n",
      "700/700 [==============================] - 1s 2ms/step - loss: 0.2369 - accuracy: 0.9086\n",
      "Epoch 35/50\n",
      "700/700 [==============================] - 1s 1ms/step - loss: 0.2342 - accuracy: 0.9029\n",
      "Epoch 36/50\n",
      "700/700 [==============================] - 1s 1ms/step - loss: 0.2353 - accuracy: 0.9086\n",
      "Epoch 37/50\n",
      "700/700 [==============================] - 1s 1ms/step - loss: 0.2350 - accuracy: 0.9114\n",
      "Epoch 38/50\n",
      "700/700 [==============================] - 1s 1ms/step - loss: 0.2338 - accuracy: 0.9100\n",
      "Epoch 39/50\n",
      "700/700 [==============================] - 1s 1ms/step - loss: 0.2342 - accuracy: 0.9086\n",
      "Epoch 40/50\n",
      "700/700 [==============================] - 1s 1ms/step - loss: 0.2327 - accuracy: 0.9086\n",
      "Epoch 41/50\n",
      "700/700 [==============================] - 1s 1ms/step - loss: 0.2323 - accuracy: 0.9029\n",
      "Epoch 42/50\n",
      "700/700 [==============================] - 1s 1ms/step - loss: 0.2332 - accuracy: 0.9071\n",
      "Epoch 43/50\n",
      "700/700 [==============================] - 1s 1ms/step - loss: 0.2327 - accuracy: 0.9029\n",
      "Epoch 44/50\n",
      "700/700 [==============================] - 1s 1ms/step - loss: 0.2323 - accuracy: 0.9043\n",
      "Epoch 45/50\n",
      "700/700 [==============================] - 1s 1ms/step - loss: 0.2311 - accuracy: 0.9014\n",
      "Epoch 46/50\n",
      "700/700 [==============================] - 1s 1ms/step - loss: 0.2317 - accuracy: 0.9071\n",
      "Epoch 47/50\n",
      "700/700 [==============================] - 1s 1ms/step - loss: 0.2313 - accuracy: 0.9057\n",
      "Epoch 48/50\n",
      "700/700 [==============================] - 1s 1ms/step - loss: 0.2313 - accuracy: 0.9043\n",
      "Epoch 49/50\n",
      "700/700 [==============================] - 1s 1ms/step - loss: 0.2315 - accuracy: 0.9057\n",
      "Epoch 50/50\n",
      "700/700 [==============================] - 1s 2ms/step - loss: 0.2307 - accuracy: 0.9014\n"
     ]
    },
    {
     "data": {
      "text/plain": [
       "<keras.callbacks.History at 0x13e1e56b4c0>"
      ]
     },
     "execution_count": 22,
     "metadata": {},
     "output_type": "execute_result"
    }
   ],
   "source": [
    "ann.fit(X_train, y_train, batch_size = 1, epochs = 50)"
   ]
  },
  {
   "cell_type": "markdown",
   "id": "e1dac9e5",
   "metadata": {},
   "source": [
    "#### Predicting outputs in the test set"
   ]
  },
  {
   "cell_type": "code",
   "execution_count": 23,
   "id": "291e806b",
   "metadata": {
    "execution": {
     "iopub.execute_input": "2022-08-24T16:03:58.311653Z",
     "iopub.status.busy": "2022-08-24T16:03:58.310911Z",
     "iopub.status.idle": "2022-08-24T16:03:58.316918Z",
     "shell.execute_reply": "2022-08-24T16:03:58.316107Z"
    },
    "papermill": {
     "duration": 0.019867,
     "end_time": "2022-08-24T16:03:58.319338",
     "exception": false,
     "start_time": "2022-08-24T16:03:58.299471",
     "status": "completed"
    },
    "tags": []
   },
   "outputs": [
    {
     "name": "stdout",
     "output_type": "stream",
     "text": [
      "10/10 [==============================] - 0s 1ms/step\n"
     ]
    }
   ],
   "source": [
    "y_pre = ann.predict(X_test)\n",
    "y_pred = (y_pre > 0.5)"
   ]
  },
  {
   "cell_type": "markdown",
   "id": "b80ffea5",
   "metadata": {},
   "source": [
    "#### Confusion matrix"
   ]
  },
  {
   "cell_type": "code",
   "execution_count": 24,
   "id": "0f155c0c",
   "metadata": {
    "execution": {
     "iopub.execute_input": "2022-08-24T16:03:58.341644Z",
     "iopub.status.busy": "2022-08-24T16:03:58.340865Z",
     "iopub.status.idle": "2022-08-24T16:03:58.345739Z",
     "shell.execute_reply": "2022-08-24T16:03:58.344919Z"
    },
    "papermill": {
     "duration": 0.018506,
     "end_time": "2022-08-24T16:03:58.348089",
     "exception": false,
     "start_time": "2022-08-24T16:03:58.329583",
     "status": "completed"
    },
    "tags": []
   },
   "outputs": [
    {
     "name": "stdout",
     "output_type": "stream",
     "text": [
      "Confusion matrix:\n",
      "[[163  14]\n",
      " [ 15 108]]\n",
      "               precision    recall  f1-score   support\n",
      "\n",
      "not purchased     0.9157    0.9209    0.9183       177\n",
      "    purchased     0.8852    0.8780    0.8816       123\n",
      "\n",
      "     accuracy                         0.9033       300\n",
      "    macro avg     0.9005    0.8995    0.9000       300\n",
      " weighted avg     0.9032    0.9033    0.9033       300\n",
      "\n"
     ]
    }
   ],
   "source": [
    "cm = confusion_matrix(y_test, y_pred)\n",
    "print('Confusion matrix:')\n",
    "print(cm)\n",
    "print(classification_report(y_test, y_pred, target_names=[\"not purchased\",\"purchased\"], digits= 4))"
   ]
  },
  {
   "cell_type": "markdown",
   "id": "139e534b",
   "metadata": {},
   "source": [
    "#### ROC-AUC Curve"
   ]
  },
  {
   "cell_type": "code",
   "execution_count": 25,
   "id": "0e1d9faf",
   "metadata": {
    "execution": {
     "iopub.execute_input": "2022-08-24T16:03:58.370903Z",
     "iopub.status.busy": "2022-08-24T16:03:58.369834Z",
     "iopub.status.idle": "2022-08-24T16:03:58.376809Z",
     "shell.execute_reply": "2022-08-24T16:03:58.375863Z"
    },
    "papermill": {
     "duration": 0.020959,
     "end_time": "2022-08-24T16:03:58.379374",
     "exception": false,
     "start_time": "2022-08-24T16:03:58.358415",
     "status": "completed"
    },
    "tags": []
   },
   "outputs": [
    {
     "name": "stdout",
     "output_type": "stream",
     "text": [
      " 1/10 [==>...........................] - ETA: 0s"
     ]
    },
    {
     "name": "stdout",
     "output_type": "stream",
     "text": [
      "10/10 [==============================] - 0s 2ms/step\n"
     ]
    },
    {
     "data": {
      "image/png": "[encoded data removed]",
      "text/plain": [
       "<Figure size 640x480 with 1 Axes>"
      ]
     },
     "metadata": {},
     "output_type": "display_data"
    }
   ],
   "source": [
    "y_pred_proba = ann.predict(X_test)\n",
    "fpr, tpr, thresholds = roc_curve(y_test,  y_pred_proba)\n",
    "roc_auc = auc(fpr, tpr)\n",
    "curve = RocCurveDisplay(fpr=fpr, tpr=tpr, roc_auc=roc_auc)\n",
    "curve.plot()\n",
    "plt.show()"
   ]
  }
 ],
 "metadata": {
  "kernelspec": {
   "display_name": "Python 3 (ipykernel)",
   "language": "python",
   "name": "python3"
  },
  "language_info": {
   "codemirror_mode": {
    "name": "ipython",
    "version": 3
   },
   "file_extension": ".py",
   "mimetype": "text/x-python",
   "name": "python",
   "nbconvert_exporter": "python",
   "pygments_lexer": "ipython3",
   "version": "3.10.9"
  },
  "papermill": {
   "default_parameters": {},
   "duration": 17.45905,
   "end_time": "2022-08-24T16:04:02.759613",
   "environment_variables": {},
   "exception": null,
   "input_path": "__notebook__.ipynb",
   "output_path": "__notebook__.ipynb",
   "parameters": {},
   "start_time": "2022-08-24T16:03:45.300563",
   "version": "2.3.4"
  }
 },
 "nbformat": 4,
 "nbformat_minor": 5
}
